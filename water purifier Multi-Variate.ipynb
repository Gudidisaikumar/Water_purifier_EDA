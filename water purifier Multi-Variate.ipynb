{
 "cells": [
  {
   "cell_type": "markdown",
   "id": "60433268",
   "metadata": {},
   "source": [
    "# 3 . Multi-Variate Analysis"
   ]
  },
  {
   "cell_type": "markdown",
   "id": "6e3b3285",
   "metadata": {},
   "source": [
    "# Import Libraries"
   ]
  },
  {
   "cell_type": "code",
   "execution_count": 6,
   "id": "dfd74f3e",
   "metadata": {},
   "outputs": [],
   "source": [
    "import numpy as np\n",
    "import pandas as pd\n",
    "import matplotlib.pyplot as plt\n",
    "import seaborn as sns\n",
    "\n",
    "import requests\n",
    "from bs4 import BeautifulSoup\n",
    "\n",
    "import re"
   ]
  },
  {
   "cell_type": "code",
   "execution_count": 7,
   "id": "997a4086",
   "metadata": {},
   "outputs": [
    {
     "data": {
      "text/html": [
       "<div>\n",
       "<style scoped>\n",
       "    .dataframe tbody tr th:only-of-type {\n",
       "        vertical-align: middle;\n",
       "    }\n",
       "\n",
       "    .dataframe tbody tr th {\n",
       "        vertical-align: top;\n",
       "    }\n",
       "\n",
       "    .dataframe thead th {\n",
       "        text-align: right;\n",
       "    }\n",
       "</style>\n",
       "<table border=\"1\" class=\"dataframe\">\n",
       "  <thead>\n",
       "    <tr style=\"text-align: right;\">\n",
       "      <th></th>\n",
       "      <th>Unnamed: 0</th>\n",
       "      <th>ProductName</th>\n",
       "      <th>Price(₹)</th>\n",
       "      <th>Original_cost(₹)</th>\n",
       "      <th>Rating</th>\n",
       "      <th>Discount(%)</th>\n",
       "      <th>Delivery_offers</th>\n",
       "      <th>Type_models</th>\n",
       "      <th>Capacity (L/hr)</th>\n",
       "    </tr>\n",
       "  </thead>\n",
       "  <tbody>\n",
       "    <tr>\n",
       "      <th>0</th>\n",
       "      <td>0</td>\n",
       "      <td>KENT Ace</td>\n",
       "      <td>15999</td>\n",
       "      <td>21000</td>\n",
       "      <td>4.4</td>\n",
       "      <td>23.0</td>\n",
       "      <td>Free delivery</td>\n",
       "      <td>Electrical &amp; Storage</td>\n",
       "      <td>5</td>\n",
       "    </tr>\n",
       "    <tr>\n",
       "      <th>1</th>\n",
       "      <td>2</td>\n",
       "      <td>Aqua Fresh</td>\n",
       "      <td>4514</td>\n",
       "      <td>16500</td>\n",
       "      <td>4.1</td>\n",
       "      <td>72.0</td>\n",
       "      <td>Free delivery</td>\n",
       "      <td>Electrical &amp; Storage</td>\n",
       "      <td>12</td>\n",
       "    </tr>\n",
       "    <tr>\n",
       "      <th>2</th>\n",
       "      <td>3</td>\n",
       "      <td>Aquagrand SkyLand</td>\n",
       "      <td>4822</td>\n",
       "      <td>14500</td>\n",
       "      <td>4.0</td>\n",
       "      <td>66.0</td>\n",
       "      <td>Free delivery</td>\n",
       "      <td>Electrical &amp; Storage</td>\n",
       "      <td>18</td>\n",
       "    </tr>\n",
       "    <tr>\n",
       "      <th>3</th>\n",
       "      <td>4</td>\n",
       "      <td>Pureit Advanced</td>\n",
       "      <td>7799</td>\n",
       "      <td>11399</td>\n",
       "      <td>4.5</td>\n",
       "      <td>31.0</td>\n",
       "      <td>Free delivery</td>\n",
       "      <td>Electrical &amp; Storage</td>\n",
       "      <td>12</td>\n",
       "    </tr>\n",
       "    <tr>\n",
       "      <th>4</th>\n",
       "      <td>5</td>\n",
       "      <td>Pureit by</td>\n",
       "      <td>9499</td>\n",
       "      <td>18500</td>\n",
       "      <td>4.5</td>\n",
       "      <td>48.0</td>\n",
       "      <td>Free delivery</td>\n",
       "      <td>Electrical &amp; Storage</td>\n",
       "      <td>20</td>\n",
       "    </tr>\n",
       "    <tr>\n",
       "      <th>...</th>\n",
       "      <td>...</td>\n",
       "      <td>...</td>\n",
       "      <td>...</td>\n",
       "      <td>...</td>\n",
       "      <td>...</td>\n",
       "      <td>...</td>\n",
       "      <td>...</td>\n",
       "      <td>...</td>\n",
       "      <td>...</td>\n",
       "    </tr>\n",
       "    <tr>\n",
       "      <th>663</th>\n",
       "      <td>973</td>\n",
       "      <td>Blair CRYSTA</td>\n",
       "      <td>4929</td>\n",
       "      <td>19999</td>\n",
       "      <td>4.3</td>\n",
       "      <td>75.0</td>\n",
       "      <td>Free delivery</td>\n",
       "      <td>Electrical &amp; Storage</td>\n",
       "      <td>17</td>\n",
       "    </tr>\n",
       "    <tr>\n",
       "      <th>664</th>\n",
       "      <td>974</td>\n",
       "      <td>Blair FUSION</td>\n",
       "      <td>4934</td>\n",
       "      <td>19999</td>\n",
       "      <td>4.3</td>\n",
       "      <td>75.0</td>\n",
       "      <td>Free delivery</td>\n",
       "      <td>Electrical &amp; Storage</td>\n",
       "      <td>17</td>\n",
       "    </tr>\n",
       "    <tr>\n",
       "      <th>665</th>\n",
       "      <td>976</td>\n",
       "      <td>AQUA Red</td>\n",
       "      <td>5699</td>\n",
       "      <td>14500</td>\n",
       "      <td>4.3</td>\n",
       "      <td>60.0</td>\n",
       "      <td>Free delivery</td>\n",
       "      <td>Electrical &amp; Storage</td>\n",
       "      <td>5</td>\n",
       "    </tr>\n",
       "    <tr>\n",
       "      <th>666</th>\n",
       "      <td>977</td>\n",
       "      <td>ojhashree Aqua</td>\n",
       "      <td>5990</td>\n",
       "      <td>15990</td>\n",
       "      <td>4.3</td>\n",
       "      <td>62.0</td>\n",
       "      <td>Free delivery</td>\n",
       "      <td>Electrical &amp; Storage</td>\n",
       "      <td>5</td>\n",
       "    </tr>\n",
       "    <tr>\n",
       "      <th>667</th>\n",
       "      <td>982</td>\n",
       "      <td>AquaDart Premium</td>\n",
       "      <td>5399</td>\n",
       "      <td>19999</td>\n",
       "      <td>3.7</td>\n",
       "      <td>73.0</td>\n",
       "      <td>Free delivery</td>\n",
       "      <td>Electrical &amp; Storage</td>\n",
       "      <td>5</td>\n",
       "    </tr>\n",
       "  </tbody>\n",
       "</table>\n",
       "<p>668 rows × 9 columns</p>\n",
       "</div>"
      ],
      "text/plain": [
       "     Unnamed: 0        ProductName  Price(₹)  Original_cost(₹)  Rating  \\\n",
       "0             0           KENT Ace     15999             21000     4.4   \n",
       "1             2         Aqua Fresh      4514             16500     4.1   \n",
       "2             3  Aquagrand SkyLand      4822             14500     4.0   \n",
       "3             4    Pureit Advanced      7799             11399     4.5   \n",
       "4             5          Pureit by      9499             18500     4.5   \n",
       "..          ...                ...       ...               ...     ...   \n",
       "663         973       Blair CRYSTA      4929             19999     4.3   \n",
       "664         974       Blair FUSION      4934             19999     4.3   \n",
       "665         976           AQUA Red      5699             14500     4.3   \n",
       "666         977     ojhashree Aqua      5990             15990     4.3   \n",
       "667         982   AquaDart Premium      5399             19999     3.7   \n",
       "\n",
       "     Discount(%) Delivery_offers           Type_models  Capacity (L/hr)  \n",
       "0           23.0   Free delivery  Electrical & Storage                5  \n",
       "1           72.0   Free delivery  Electrical & Storage               12  \n",
       "2           66.0   Free delivery  Electrical & Storage               18  \n",
       "3           31.0   Free delivery  Electrical & Storage               12  \n",
       "4           48.0   Free delivery  Electrical & Storage               20  \n",
       "..           ...             ...                   ...              ...  \n",
       "663         75.0   Free delivery  Electrical & Storage               17  \n",
       "664         75.0   Free delivery  Electrical & Storage               17  \n",
       "665         60.0   Free delivery  Electrical & Storage                5  \n",
       "666         62.0   Free delivery  Electrical & Storage                5  \n",
       "667         73.0   Free delivery  Electrical & Storage                5  \n",
       "\n",
       "[668 rows x 9 columns]"
      ]
     },
     "execution_count": 7,
     "metadata": {},
     "output_type": "execute_result"
    }
   ],
   "source": [
    "df4=pd.read_csv(r\"C:Water_purifier2.csv\")\n",
    "df4"
   ]
  },
  {
   "cell_type": "code",
   "execution_count": 8,
   "id": "12bb32d1",
   "metadata": {},
   "outputs": [
    {
     "data": {
      "text/html": [
       "<div>\n",
       "<style scoped>\n",
       "    .dataframe tbody tr th:only-of-type {\n",
       "        vertical-align: middle;\n",
       "    }\n",
       "\n",
       "    .dataframe tbody tr th {\n",
       "        vertical-align: top;\n",
       "    }\n",
       "\n",
       "    .dataframe thead th {\n",
       "        text-align: right;\n",
       "    }\n",
       "</style>\n",
       "<table border=\"1\" class=\"dataframe\">\n",
       "  <thead>\n",
       "    <tr style=\"text-align: right;\">\n",
       "      <th></th>\n",
       "      <th>ProductName</th>\n",
       "      <th>Price(₹)</th>\n",
       "      <th>Original_cost(₹)</th>\n",
       "      <th>Rating</th>\n",
       "      <th>Discount(%)</th>\n",
       "      <th>Delivery_offers</th>\n",
       "      <th>Type_models</th>\n",
       "      <th>Capacity (L/hr)</th>\n",
       "    </tr>\n",
       "  </thead>\n",
       "  <tbody>\n",
       "    <tr>\n",
       "      <th>0</th>\n",
       "      <td>KENT Ace</td>\n",
       "      <td>15999</td>\n",
       "      <td>21000</td>\n",
       "      <td>4.4</td>\n",
       "      <td>23.0</td>\n",
       "      <td>Free delivery</td>\n",
       "      <td>Electrical &amp; Storage</td>\n",
       "      <td>5</td>\n",
       "    </tr>\n",
       "    <tr>\n",
       "      <th>1</th>\n",
       "      <td>Aqua Fresh</td>\n",
       "      <td>4514</td>\n",
       "      <td>16500</td>\n",
       "      <td>4.1</td>\n",
       "      <td>72.0</td>\n",
       "      <td>Free delivery</td>\n",
       "      <td>Electrical &amp; Storage</td>\n",
       "      <td>12</td>\n",
       "    </tr>\n",
       "    <tr>\n",
       "      <th>2</th>\n",
       "      <td>Aquagrand SkyLand</td>\n",
       "      <td>4822</td>\n",
       "      <td>14500</td>\n",
       "      <td>4.0</td>\n",
       "      <td>66.0</td>\n",
       "      <td>Free delivery</td>\n",
       "      <td>Electrical &amp; Storage</td>\n",
       "      <td>18</td>\n",
       "    </tr>\n",
       "    <tr>\n",
       "      <th>3</th>\n",
       "      <td>Pureit Advanced</td>\n",
       "      <td>7799</td>\n",
       "      <td>11399</td>\n",
       "      <td>4.5</td>\n",
       "      <td>31.0</td>\n",
       "      <td>Free delivery</td>\n",
       "      <td>Electrical &amp; Storage</td>\n",
       "      <td>12</td>\n",
       "    </tr>\n",
       "    <tr>\n",
       "      <th>4</th>\n",
       "      <td>Pureit by</td>\n",
       "      <td>9499</td>\n",
       "      <td>18500</td>\n",
       "      <td>4.5</td>\n",
       "      <td>48.0</td>\n",
       "      <td>Free delivery</td>\n",
       "      <td>Electrical &amp; Storage</td>\n",
       "      <td>20</td>\n",
       "    </tr>\n",
       "    <tr>\n",
       "      <th>...</th>\n",
       "      <td>...</td>\n",
       "      <td>...</td>\n",
       "      <td>...</td>\n",
       "      <td>...</td>\n",
       "      <td>...</td>\n",
       "      <td>...</td>\n",
       "      <td>...</td>\n",
       "      <td>...</td>\n",
       "    </tr>\n",
       "    <tr>\n",
       "      <th>663</th>\n",
       "      <td>Blair CRYSTA</td>\n",
       "      <td>4929</td>\n",
       "      <td>19999</td>\n",
       "      <td>4.3</td>\n",
       "      <td>75.0</td>\n",
       "      <td>Free delivery</td>\n",
       "      <td>Electrical &amp; Storage</td>\n",
       "      <td>17</td>\n",
       "    </tr>\n",
       "    <tr>\n",
       "      <th>664</th>\n",
       "      <td>Blair FUSION</td>\n",
       "      <td>4934</td>\n",
       "      <td>19999</td>\n",
       "      <td>4.3</td>\n",
       "      <td>75.0</td>\n",
       "      <td>Free delivery</td>\n",
       "      <td>Electrical &amp; Storage</td>\n",
       "      <td>17</td>\n",
       "    </tr>\n",
       "    <tr>\n",
       "      <th>665</th>\n",
       "      <td>AQUA Red</td>\n",
       "      <td>5699</td>\n",
       "      <td>14500</td>\n",
       "      <td>4.3</td>\n",
       "      <td>60.0</td>\n",
       "      <td>Free delivery</td>\n",
       "      <td>Electrical &amp; Storage</td>\n",
       "      <td>5</td>\n",
       "    </tr>\n",
       "    <tr>\n",
       "      <th>666</th>\n",
       "      <td>ojhashree Aqua</td>\n",
       "      <td>5990</td>\n",
       "      <td>15990</td>\n",
       "      <td>4.3</td>\n",
       "      <td>62.0</td>\n",
       "      <td>Free delivery</td>\n",
       "      <td>Electrical &amp; Storage</td>\n",
       "      <td>5</td>\n",
       "    </tr>\n",
       "    <tr>\n",
       "      <th>667</th>\n",
       "      <td>AquaDart Premium</td>\n",
       "      <td>5399</td>\n",
       "      <td>19999</td>\n",
       "      <td>3.7</td>\n",
       "      <td>73.0</td>\n",
       "      <td>Free delivery</td>\n",
       "      <td>Electrical &amp; Storage</td>\n",
       "      <td>5</td>\n",
       "    </tr>\n",
       "  </tbody>\n",
       "</table>\n",
       "<p>668 rows × 8 columns</p>\n",
       "</div>"
      ],
      "text/plain": [
       "           ProductName  Price(₹)  Original_cost(₹)  Rating  Discount(%)  \\\n",
       "0             KENT Ace     15999             21000     4.4         23.0   \n",
       "1           Aqua Fresh      4514             16500     4.1         72.0   \n",
       "2    Aquagrand SkyLand      4822             14500     4.0         66.0   \n",
       "3      Pureit Advanced      7799             11399     4.5         31.0   \n",
       "4            Pureit by      9499             18500     4.5         48.0   \n",
       "..                 ...       ...               ...     ...          ...   \n",
       "663       Blair CRYSTA      4929             19999     4.3         75.0   \n",
       "664       Blair FUSION      4934             19999     4.3         75.0   \n",
       "665           AQUA Red      5699             14500     4.3         60.0   \n",
       "666     ojhashree Aqua      5990             15990     4.3         62.0   \n",
       "667   AquaDart Premium      5399             19999     3.7         73.0   \n",
       "\n",
       "    Delivery_offers           Type_models  Capacity (L/hr)  \n",
       "0     Free delivery  Electrical & Storage                5  \n",
       "1     Free delivery  Electrical & Storage               12  \n",
       "2     Free delivery  Electrical & Storage               18  \n",
       "3     Free delivery  Electrical & Storage               12  \n",
       "4     Free delivery  Electrical & Storage               20  \n",
       "..              ...                   ...              ...  \n",
       "663   Free delivery  Electrical & Storage               17  \n",
       "664   Free delivery  Electrical & Storage               17  \n",
       "665   Free delivery  Electrical & Storage                5  \n",
       "666   Free delivery  Electrical & Storage                5  \n",
       "667   Free delivery  Electrical & Storage                5  \n",
       "\n",
       "[668 rows x 8 columns]"
      ]
     },
     "execution_count": 8,
     "metadata": {},
     "output_type": "execute_result"
    }
   ],
   "source": [
    "df4.drop(columns='Unnamed: 0',inplace=True)\n",
    "df4"
   ]
  },
  {
   "cell_type": "code",
   "execution_count": 36,
   "id": "5d4f02be",
   "metadata": {},
   "outputs": [
    {
     "data": {
      "text/html": [
       "<div>\n",
       "<style scoped>\n",
       "    .dataframe tbody tr th:only-of-type {\n",
       "        vertical-align: middle;\n",
       "    }\n",
       "\n",
       "    .dataframe tbody tr th {\n",
       "        vertical-align: top;\n",
       "    }\n",
       "\n",
       "    .dataframe thead th {\n",
       "        text-align: right;\n",
       "    }\n",
       "</style>\n",
       "<table border=\"1\" class=\"dataframe\">\n",
       "  <thead>\n",
       "    <tr style=\"text-align: right;\">\n",
       "      <th></th>\n",
       "      <th>Price(₹)</th>\n",
       "      <th>Original_cost(₹)</th>\n",
       "      <th>Rating</th>\n",
       "      <th>Discount(%)</th>\n",
       "      <th>Capacity (L/hr)</th>\n",
       "    </tr>\n",
       "  </thead>\n",
       "  <tbody>\n",
       "    <tr>\n",
       "      <th>count</th>\n",
       "      <td>697.000000</td>\n",
       "      <td>697.000000</td>\n",
       "      <td>697.000000</td>\n",
       "      <td>697.000000</td>\n",
       "      <td>697.000000</td>\n",
       "    </tr>\n",
       "    <tr>\n",
       "      <th>mean</th>\n",
       "      <td>8646.388809</td>\n",
       "      <td>17278.025825</td>\n",
       "      <td>4.153945</td>\n",
       "      <td>51.562410</td>\n",
       "      <td>97.902439</td>\n",
       "    </tr>\n",
       "    <tr>\n",
       "      <th>std</th>\n",
       "      <td>11850.571695</td>\n",
       "      <td>12415.401021</td>\n",
       "      <td>0.405196</td>\n",
       "      <td>21.589497</td>\n",
       "      <td>742.301610</td>\n",
       "    </tr>\n",
       "    <tr>\n",
       "      <th>min</th>\n",
       "      <td>157.000000</td>\n",
       "      <td>499.000000</td>\n",
       "      <td>1.000000</td>\n",
       "      <td>1.000000</td>\n",
       "      <td>1.000000</td>\n",
       "    </tr>\n",
       "    <tr>\n",
       "      <th>25%</th>\n",
       "      <td>4499.000000</td>\n",
       "      <td>13625.000000</td>\n",
       "      <td>4.000000</td>\n",
       "      <td>34.000000</td>\n",
       "      <td>5.000000</td>\n",
       "    </tr>\n",
       "    <tr>\n",
       "      <th>50%</th>\n",
       "      <td>5299.000000</td>\n",
       "      <td>16500.000000</td>\n",
       "      <td>4.300000</td>\n",
       "      <td>61.000000</td>\n",
       "      <td>12.000000</td>\n",
       "    </tr>\n",
       "    <tr>\n",
       "      <th>75%</th>\n",
       "      <td>10890.000000</td>\n",
       "      <td>19999.000000</td>\n",
       "      <td>4.300000</td>\n",
       "      <td>69.000000</td>\n",
       "      <td>15.000000</td>\n",
       "    </tr>\n",
       "    <tr>\n",
       "      <th>max</th>\n",
       "      <td>227890.000000</td>\n",
       "      <td>239990.000000</td>\n",
       "      <td>5.000000</td>\n",
       "      <td>80.000000</td>\n",
       "      <td>10000.000000</td>\n",
       "    </tr>\n",
       "  </tbody>\n",
       "</table>\n",
       "</div>"
      ],
      "text/plain": [
       "            Price(₹)  Original_cost(₹)      Rating  Discount(%)  \\\n",
       "count     697.000000        697.000000  697.000000   697.000000   \n",
       "mean     8646.388809      17278.025825    4.153945    51.562410   \n",
       "std     11850.571695      12415.401021    0.405196    21.589497   \n",
       "min       157.000000        499.000000    1.000000     1.000000   \n",
       "25%      4499.000000      13625.000000    4.000000    34.000000   \n",
       "50%      5299.000000      16500.000000    4.300000    61.000000   \n",
       "75%     10890.000000      19999.000000    4.300000    69.000000   \n",
       "max    227890.000000     239990.000000    5.000000    80.000000   \n",
       "\n",
       "       Capacity (L/hr)  \n",
       "count       697.000000  \n",
       "mean         97.902439  \n",
       "std         742.301610  \n",
       "min           1.000000  \n",
       "25%           5.000000  \n",
       "50%          12.000000  \n",
       "75%          15.000000  \n",
       "max       10000.000000  "
      ]
     },
     "execution_count": 36,
     "metadata": {},
     "output_type": "execute_result"
    }
   ],
   "source": [
    " df4.describe()"
   ]
  },
  {
   "cell_type": "code",
   "execution_count": 37,
   "id": "cfb35d46",
   "metadata": {},
   "outputs": [
    {
     "data": {
      "text/plain": [
       "0"
      ]
     },
     "execution_count": 37,
     "metadata": {},
     "output_type": "execute_result"
    }
   ],
   "source": [
    "df4.duplicated().sum()"
   ]
  },
  {
   "cell_type": "markdown",
   "id": "6af8c35b",
   "metadata": {},
   "source": [
    "# Box plot :"
   ]
  },
  {
   "cell_type": "code",
   "execution_count": 9,
   "id": "e61d5348",
   "metadata": {},
   "outputs": [
    {
     "data": {
      "image/png": "[encoded data removed]",
      "text/plain": [
       "<Figure size 1440x576 with 1 Axes>"
      ]
     },
     "metadata": {
      "needs_background": "light"
     },
     "output_type": "display_data"
    }
   ],
   "source": [
    "plt.figure(figsize=[20,8])\n",
    "sns.boxplot(data=df4, x=\"Type_models\", y=\"Price(₹)\", hue=\"Delivery_offers\")\n",
    "plt.xticks(rotation = 90)\n",
    "plt.show()"
   ]
  },
  {
   "cell_type": "markdown",
   "id": "19d7e1ca",
   "metadata": {},
   "source": [
    "# Observations\n",
    "- Ao Smith has more price in the range of above 30000\n",
    "- Aqua dove has less price in the range of below 1000"
   ]
  },
  {
   "cell_type": "code",
   "execution_count": 11,
   "id": "6151d2f7",
   "metadata": {},
   "outputs": [
    {
     "data": {
      "image/png": "[encoded data removed]",
      "text/plain": [
       "<Figure size 1440x576 with 1 Axes>"
      ]
     },
     "metadata": {
      "needs_background": "light"
     },
     "output_type": "display_data"
    }
   ],
   "source": [
    "plt.figure(figsize=[20,8])\n",
    "sns.boxplot(data=df4, x=\"Type_models\", y=\"Discount(%)\", hue=\"Delivery_offers\")\n",
    "plt.xticks(rotation = 90)\n",
    "plt.show()"
   ]
  },
  {
   "cell_type": "markdown",
   "id": "f2859e1b",
   "metadata": {},
   "source": [
    "# Observations \n",
    "- Electrical & Storage purifiers and Electrical & Non-storage purifiers have more discount offers\n",
    "- Non-Electrical & Storage purifiers and Non-Electrical & Non-Storage purifiers have less discount offers. "
   ]
  },
  {
   "cell_type": "markdown",
   "id": "fcc668d8",
   "metadata": {},
   "source": [
    "# violin plot"
   ]
  },
  {
   "cell_type": "code",
   "execution_count": 10,
   "id": "ab7ab4f7",
   "metadata": {},
   "outputs": [
    {
     "data": {
      "image/png": "[encoded data removed]",
      "text/plain": [
       "<Figure size 432x288 with 1 Axes>"
      ]
     },
     "metadata": {
      "needs_background": "light"
     },
     "output_type": "display_data"
    }
   ],
   "source": [
    "sns.violinplot(data=df4,x=\"Type_models\",y=\"Discount(%)\")\n",
    "plt.xticks(rotation = 90)\n",
    "plt.show()"
   ]
  },
  {
   "cell_type": "markdown",
   "id": "75125028",
   "metadata": {},
   "source": [
    "# Observations  \n",
    "- Electrical & Storage purifiers having free delivery at discount range of 65%-70%\n",
    "- Non-Electricl & Storage purifiers having delivery charges at discount range 5%-30%\n",
    "- Electrical & Non-storage purifiers having delivery charges at disccount range 20%-60%"
   ]
  },
  {
   "cell_type": "code",
   "execution_count": 25,
   "id": "77cbc04f",
   "metadata": {},
   "outputs": [
    {
     "data": {
      "image/png": "[encoded data removed]",
      "text/plain": [
       "<Figure size 720x360 with 1 Axes>"
      ]
     },
     "metadata": {
      "needs_background": "light"
     },
     "output_type": "display_data"
    }
   ],
   "source": [
    "plt.figure(figsize=[10,5])\n",
    "sns.boxplot(data=df4, x=\"Type_models\", y=\"Rating\", hue=\"Delivery_offers\")\n",
    "#plt.xticks(rotation = 90)\n",
    "plt.show()"
   ]
  },
  {
   "cell_type": "markdown",
   "id": "3428f07b",
   "metadata": {},
   "source": [
    "# Observations \n",
    "- Electrical & Storage purifiers for free delivery items have more ratings above 4.0\n",
    "- Non-electrical & Storage purifiers having less ratings below 4.0"
   ]
  },
  {
   "cell_type": "code",
   "execution_count": null,
   "id": "0c28dcce",
   "metadata": {},
   "outputs": [],
   "source": []
  }
 ],
 "metadata": {
  "kernelspec": {
   "display_name": "Python 3 (ipykernel)",
   "language": "python",
   "name": "python3"
  },
  "language_info": {
   "codemirror_mode": {
    "name": "ipython",
    "version": 3
   },
   "file_extension": ".py",
   "mimetype": "text/x-python",
   "name": "python",
   "nbconvert_exporter": "python",
   "pygments_lexer": "ipython3",
   "version": "3.9.12"
  }
 },
 "nbformat": 4,
 "nbformat_minor": 5
}
